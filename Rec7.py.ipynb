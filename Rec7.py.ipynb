{
 "cells": [
  {
   "cell_type": "code",
   "execution_count": null,
   "id": "a08ae380",
   "metadata": {},
   "outputs": [
    {
     "name": "stdout",
     "output_type": "stream",
     "text": [
      "1. Rectangle\n",
      "2. Circle\n",
      "3. Cuboid\n",
      "4. Sphere\n",
      "5. Exit\n",
      "Enter your choice: 2\n",
      "Enter radius: 5\n",
      "Area of Circle:  78.5\n",
      "Perimeter of circle:  31.400000000000002\n",
      "1. Rectangle\n",
      "2. Circle\n",
      "3. Cuboid\n",
      "4. Sphere\n",
      "5. Exit\n",
      "Enter your choice: 1\n",
      "Enter length: 20\n",
      "Enter breadth: 10\n",
      "Area of Rectangle:  200\n",
      "Perimeter of Rectangle:  60 \n",
      "\n",
      "\n",
      "1. Rectangle\n",
      "2. Circle\n",
      "3. Cuboid\n",
      "4. Sphere\n",
      "5. Exit\n"
     ]
    }
   ],
   "source": [
    "from graphics import rect\n",
    "from graphics import circle1\n",
    "from graphics.graphics3D import cuboid\n",
    "from graphics.graphics3D import sphere\n",
    "\n",
    "while(1):\n",
    "    print(\"1. Rectangle\\n2. Circle\\n3. Cuboid\\n4. Sphere\\n5. Exit\")\n",
    "    ch=int(input(\"Enter your choice: \")) \n",
    "    if ch==1: \n",
    "        l=int(input(\"Enter length: \")) \n",
    "        w=int(input(\"Enter breadth: \")) \n",
    "        rect.rarea(l,w) \n",
    "        rect.aperi(l,w)\n",
    "    elif ch==2: \n",
    "        r=int(input(\"Enter radius: \")) \n",
    "        circle1.cearea(r) \n",
    "        circle1.cperi(r) \n",
    "    elif ch==3: \n",
    "        l= int(input(\"Enter length: \")) \n",
    "        b= int(input(\"Enter breadth: \")) \n",
    "        h= int(input(\"Enter height: \")) \n",
    "        cuboid.cuboidarea(l,b,h) \n",
    "        cuboid.cuboidperi(l,b,h) \n",
    "    elif ch==4: \n",
    "        r=int(input(\"Enter radius: \")) \n",
    "        sphere.spherearea(r) \n",
    "        sphere.sphereperi (r) \n",
    "    else: \n",
    "        print(\"Exiting...\") \n",
    "        break"
   ]
  },
  {
   "cell_type": "code",
   "execution_count": null,
   "id": "5ae671d0",
   "metadata": {},
   "outputs": [],
   "source": []
  }
 ],
 "metadata": {
  "kernelspec": {
   "display_name": "Python 3 (ipykernel)",
   "language": "python",
   "name": "python3"
  },
  "language_info": {
   "codemirror_mode": {
    "name": "ipython",
    "version": 3
   },
   "file_extension": ".py",
   "mimetype": "text/x-python",
   "name": "python",
   "nbconvert_exporter": "python",
   "pygments_lexer": "ipython3",
   "version": "3.11.5"
  }
 },
 "nbformat": 4,
 "nbformat_minor": 5
}
