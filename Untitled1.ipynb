{
 "cells": [
  {
   "cell_type": "code",
   "execution_count": 1,
   "id": "c16fbdb6",
   "metadata": {},
   "outputs": [
    {
     "name": "stdout",
     "output_type": "stream",
     "text": [
      "Enter a string: Onion\n",
      "Original String: Onion\n",
      "Modified String: Onion\n"
     ]
    }
   ],
   "source": [
    "input_str = input(\"Enter a string: \")\n",
    "modified_str = input_str[0]\n",
    "\n",
    "for char in input_str[1:]:\n",
    "    if char == input_str[0]:\n",
    "        modified_str += '$'\n",
    "    else:\n",
    "        modified_str += char\n",
    "print(\"Original String:\", input_str)\n",
    "print(\"Modified String:\", modified_str)"
   ]
  },
  {
   "cell_type": "code",
   "execution_count": null,
   "id": "3cf90460",
   "metadata": {},
   "outputs": [],
   "source": []
  }
 ],
 "metadata": {
  "kernelspec": {
   "display_name": "Python 3 (ipykernel)",
   "language": "python",
   "name": "python3"
  },
  "language_info": {
   "codemirror_mode": {
    "name": "ipython",
    "version": 3
   },
   "file_extension": ".py",
   "mimetype": "text/x-python",
   "name": "python",
   "nbconvert_exporter": "python",
   "pygments_lexer": "ipython3",
   "version": "3.11.5"
  }
 },
 "nbformat": 4,
 "nbformat_minor": 5
}
