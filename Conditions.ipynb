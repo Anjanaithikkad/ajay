{
 "cells": [
  {
   "cell_type": "code",
   "execution_count": 4,
   "id": "9ba94038",
   "metadata": {},
   "outputs": [],
   "source": [
    "a=10\n",
    "b=20\n",
    "if(a>b):\n",
    "    print(\"b is greater than b\")"
   ]
  },
  {
   "cell_type": "code",
   "execution_count": 19,
   "id": "22e1cb44",
   "metadata": {},
   "outputs": [
    {
     "name": "stdout",
     "output_type": "stream",
     "text": [
      "Enter First Number:10\n",
      "Enter Second Number20\n",
      "Enter Third Number:500\n",
      "500 is greater \n"
     ]
    }
   ],
   "source": [
    "a=int(input(\"Enter First Number:\"))\n",
    "b=int(input(\"Enter Second Number\"))\n",
    "c=int(input(\"Enter Third Number:\"))\n",
    "if((a>b) and (a>c)):\n",
    "    print(f\"{a} is greater:\")\n",
    "elif((b>a) and (b>c)):\n",
    "    print(f\"{b} is greater:\")\n",
    "else:\n",
    "    print(f\"{c} is greater \")"
   ]
  },
  {
   "cell_type": "code",
   "execution_count": 23,
   "id": "a5f7b6f4",
   "metadata": {},
   "outputs": [
    {
     "name": "stdout",
     "output_type": "stream",
     "text": [
      "Enter a Number0\n",
      "0 is Zero\n"
     ]
    }
   ],
   "source": [
    "num=int(input(\"Enter a Number\"))\n",
    "if(num>0):\n",
    "    print(f\"{num} is a Positive Number\")\n",
    "elif(num<0):\n",
    "    print(f\"{num} is a Negetive Number\")\n",
    "else:\n",
    "    print(f\"{num} is Zero\")"
   ]
  },
  {
   "cell_type": "code",
   "execution_count": 38,
   "id": "2b6118e1",
   "metadata": {},
   "outputs": [
    {
     "name": "stdout",
     "output_type": "stream",
     "text": [
      "Enter the length of rectangle:6\n",
      "Enter The Width of rectangle:6\n",
      "it is a Square\n"
     ]
    }
   ],
   "source": [
    "leng=int(input(\"Enter the length of rectangle:\"))\n",
    "wid=int(input(\"Enter The Width of rectangle:\"))\n",
    "if(leng==wid):\n",
    "    print(\"it is a Square\")\n",
    "else:\n",
    "        print(\"Its not a square\")"
   ]
  },
  {
   "cell_type": "code",
   "execution_count": 1,
   "id": "dcbcfb28",
   "metadata": {},
   "outputs": [
    {
     "name": "stdout",
     "output_type": "stream",
     "text": [
      "0\n",
      "1\n",
      "2\n",
      "3\n",
      "4\n",
      "5\n",
      "6\n",
      "7\n",
      "8\n",
      "9\n"
     ]
    }
   ],
   "source": [
    "for i in range(10):\n",
    "    print(i)"
   ]
  },
  {
   "cell_type": "code",
   "execution_count": 14,
   "id": "61f9df13",
   "metadata": {},
   "outputs": [
    {
     "name": "stdout",
     "output_type": "stream",
     "text": [
      "the index is: 0\n",
      "the index is: 1\n",
      "the index is: 2\n",
      "the index is: 3\n",
      "the index is: 4\n",
      "the index is: 5\n",
      "the index is: 6\n",
      "the index is: 7\n",
      "the index is: 8\n"
     ]
    }
   ],
   "source": [
    "count=0\n",
    "while(count<9):\n",
    "    print(\"the index is:\",count)\n",
    "    count+=1"
   ]
  },
  {
   "cell_type": "code",
   "execution_count": 15,
   "id": "cc28fb93",
   "metadata": {},
   "outputs": [
    {
     "name": "stdout",
     "output_type": "stream",
     "text": [
      "1\n",
      "2\n",
      "3\n",
      "4\n",
      "5\n",
      "6\n",
      "7\n",
      "8\n",
      "9\n"
     ]
    }
   ],
   "source": [
    "for i in range(1,10):\n",
    "    if(1==3):\n",
    "        continue;\n",
    "    print(i)"
   ]
  },
  {
   "cell_type": "code",
   "execution_count": 19,
   "id": "0e6b3417",
   "metadata": {},
   "outputs": [
    {
     "name": "stdout",
     "output_type": "stream",
     "text": [
      "Enter First Number:24\n",
      "Enter Second Number:3\n",
      "Product of the Number is: 72\n"
     ]
    }
   ],
   "source": [
    "n1=int(input(\"Enter First Number:\"))\n",
    "n2=int(input(\"Enter Second Number:\"))\n",
    "p_n=n1*n2\n",
    "p_s=n1+n2\n",
    "print(\"Product of the Number is:\",p_n)\n",
    "if(p_n>1000):\n",
    "    print(\"Sum of the Number is:\",p_s)"
   ]
  },
  {
   "cell_type": "code",
   "execution_count": 27,
   "id": "7a8c7a65",
   "metadata": {},
   "outputs": [
    {
     "name": "stdout",
     "output_type": "stream",
     "text": [
      "Number of classes Held:60\n",
      "Number of classes Attended:25\n",
      "percentage of Class Attended:41.67%\n",
      "Not Eligible to sit in Exam\n"
     ]
    }
   ],
   "source": [
    "c_h=int(input(\"Number of classes Held:\"))\n",
    "c_a=int(input(\"Number of classes Attended:\"))\n",
    "c_p=(c_a/c_h)*100\n",
    "print(f\"percentage of Class Attended:{c_p:.2f}%\")\n",
    "if(c_p>75):\n",
    "    print(\"Eligible to sit in Exam\")\n",
    "else:\n",
    "    print(\"Not Eligible to sit in Exam\")"
   ]
  },
  {
   "cell_type": "code",
   "execution_count": 35,
   "id": "b8d602c7",
   "metadata": {},
   "outputs": [
    {
     "name": "stdout",
     "output_type": "stream",
     "text": [
      "Enter List of Numbers Comma Seperated:12,3,4,6,78,12\n",
      "True\n"
     ]
    }
   ],
   "source": [
    "n=list(map(int,input(\"Enter List of Numbers Comma Seperated:\").split(\",\")))\n",
    "if n[0]==n[-1]:\n",
    "    print(\"True\")\n",
    "else:\n",
    "    print(\"False\")"
   ]
  },
  {
   "cell_type": "code",
   "execution_count": 42,
   "id": "56c6ad22",
   "metadata": {},
   "outputs": [
    {
     "name": "stdout",
     "output_type": "stream",
     "text": [
      "Enter the Number:5\n",
      "1*5=5\n",
      "2*5=10\n",
      "3*5=15\n",
      "4*5=20\n",
      "5*5=25\n",
      "6*5=30\n",
      "7*5=35\n",
      "8*5=40\n",
      "9*5=45\n",
      "10*5=50\n"
     ]
    }
   ],
   "source": [
    "n=int(input(\"Enter the Number:\"))\n",
    "i=1\n",
    "while i<=10:\n",
    "    p=i*n\n",
    "    print(f\"{i}*{n}={p}\")\n",
    "    i+=1"
   ]
  },
  {
   "cell_type": "code",
   "execution_count": 1,
   "id": "2ec68d0e",
   "metadata": {},
   "outputs": [
    {
     "name": "stdout",
     "output_type": "stream",
     "text": [
      "Enter a Number:5\n",
      "Factorial of the number is: 120\n"
     ]
    }
   ],
   "source": [
    "num=int(input(\"Enter a Number:\"))\n",
    "f=1\n",
    "i=1\n",
    "while i<=num:\n",
    "    f*=i\n",
    "    i+=1\n",
    "print(\"Factorial of the number is:\",f)"
   ]
  },
  {
   "cell_type": "code",
   "execution_count": null,
   "id": "8c55b3ec",
   "metadata": {},
   "outputs": [],
   "source": []
  },
  {
   "cell_type": "code",
   "execution_count": null,
   "id": "1e69ad56",
   "metadata": {},
   "outputs": [],
   "source": []
  }
 ],
 "metadata": {
  "kernelspec": {
   "display_name": "Python 3 (ipykernel)",
   "language": "python",
   "name": "python3"
  },
  "language_info": {
   "codemirror_mode": {
    "name": "ipython",
    "version": 3
   },
   "file_extension": ".py",
   "mimetype": "text/x-python",
   "name": "python",
   "nbconvert_exporter": "python",
   "pygments_lexer": "ipython3",
   "version": "3.11.5"
  }
 },
 "nbformat": 4,
 "nbformat_minor": 5
}
